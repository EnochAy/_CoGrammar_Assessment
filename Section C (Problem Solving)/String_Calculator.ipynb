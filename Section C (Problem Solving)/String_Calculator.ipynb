{
 "cells": [
  {
   "source": [
    "# String Calculator"
   ],
   "cell_type": "markdown",
   "metadata": {}
  },
  {
   "cell_type": "code",
   "execution_count": 3,
   "metadata": {},
   "outputs": [
    {
     "output_type": "stream",
     "name": "stdout",
     "text": [
      "String Calculator\n",
      "\n",
      "Press 1 for value, 2 for factorial, 3 for prime, 4 for fibonacci\n",
      "5 for addition, multiplication and division, 6 for long arithmetic expression, 7 to quit\n",
      "\n",
      "String Value\n",
      "2\n",
      "\n",
      "Prime Number\n",
      "3\n",
      "\n",
      "You can do addition, Subtraction, Multiplication and Division.\n"
     ]
    },
    {
     "output_type": "error",
     "ename": "IndexError",
     "evalue": "list index out of range",
     "traceback": [
      "\u001b[1;31m---------------------------------------------------------------------------\u001b[0m",
      "\u001b[1;31mIndexError\u001b[0m                                Traceback (most recent call last)",
      "\u001b[1;32m<ipython-input-3-ac783fc9a039>\u001b[0m in \u001b[0;36m<module>\u001b[1;34m\u001b[0m\n\u001b[0;32m     42\u001b[0m         \u001b[0mprint\u001b[0m\u001b[1;33m(\u001b[0m\u001b[1;34m\"\\nYou can do addition, Subtraction, Multiplication and Division.\"\u001b[0m\u001b[1;33m)\u001b[0m\u001b[1;33m\u001b[0m\u001b[1;33m\u001b[0m\u001b[0m\n\u001b[0;32m     43\u001b[0m         \u001b[0madd\u001b[0m \u001b[1;33m=\u001b[0m \u001b[0minput\u001b[0m\u001b[1;33m(\u001b[0m\u001b[1;34m\"Write here: \"\u001b[0m\u001b[1;33m)\u001b[0m\u001b[1;33m.\u001b[0m\u001b[0msplit\u001b[0m\u001b[1;33m(\u001b[0m\u001b[1;33m)\u001b[0m\u001b[1;33m\u001b[0m\u001b[1;33m\u001b[0m\u001b[0m\n\u001b[1;32m---> 44\u001b[1;33m         \u001b[0mresult\u001b[0m \u001b[1;33m=\u001b[0m \u001b[1;34mf\"{add[1]} {add[0]} {add[2]}\"\u001b[0m\u001b[1;33m\u001b[0m\u001b[1;33m\u001b[0m\u001b[0m\n\u001b[0m\u001b[0;32m     45\u001b[0m         \u001b[0mprint\u001b[0m\u001b[1;33m(\u001b[0m\u001b[0meval\u001b[0m\u001b[1;33m(\u001b[0m\u001b[0mresult\u001b[0m\u001b[1;33m)\u001b[0m\u001b[1;33m)\u001b[0m\u001b[1;33m\u001b[0m\u001b[1;33m\u001b[0m\u001b[0m\n\u001b[0;32m     46\u001b[0m     \u001b[1;32melif\u001b[0m \u001b[0mchoice\u001b[0m \u001b[1;33m==\u001b[0m \u001b[1;34m\"6\"\u001b[0m\u001b[1;33m:\u001b[0m\u001b[1;33m\u001b[0m\u001b[1;33m\u001b[0m\u001b[0m\n",
      "\u001b[1;31mIndexError\u001b[0m: list index out of range"
     ]
    }
   ],
   "source": [
    "print(\"String Calculator\\n\")\n",
    "print(\"Press 1 for value, 2 for factorial, 3 for prime, 4 for fibonacci\\n5 for addition, multiplication and division, 6 for long arithmetic expression, 7 to quit\")\n",
    "\n",
    "while True:\n",
    "    choice = input(\"Enter your preferrred Arithmetic type: \")\n",
    "    if choice == \"1\":\n",
    "        print(\"\\nString Value\")\n",
    "        value = input(\"Enter your string: \")\n",
    "        print(value)\n",
    "    elif choice == \"2\":\n",
    "        print(\"\\nFactorial\")\n",
    "        factorial = input(\"Enter a number: \")\n",
    "        result = 1\n",
    "        for i in range(1, int(factorial) + 1):\n",
    "            result *= i\n",
    "        print(result)\n",
    "    elif choice == \"3\":\n",
    "        print(\"\\nPrime Number\")\n",
    "        prime = input(\"Enter a number: \")\n",
    "        result = []\n",
    "        for i in range(2, int(prime) + 1):\n",
    "            for j in range(2, i):\n",
    "                if i % j == 0:\n",
    "                    break\n",
    "            else:\n",
    "                result.append(i) \n",
    "        print(result[-1])\n",
    "    elif choice == \"4\":\n",
    "        print(\"\\nFibonacci\")\n",
    "        fibo = input(\"Enter a number: \")\n",
    "        result = []\n",
    "        a, b = 0, 1\n",
    "        for _ in range(int(fibo) + 1):\n",
    "            if a < int(fibo):\n",
    "                result.append(a)\n",
    "                c = a + b\n",
    "                a = b\n",
    "                b = c\n",
    "\n",
    "        print(result[-1])\n",
    "    elif choice == \"5\":\n",
    "        print(\"\\nYou can do addition, Subtraction, Multiplication and Division.\")\n",
    "        add = input(\"Write here: \").split()\n",
    "        result = f\"{add[1]} {add[0]} {add[2]}\"\n",
    "        print(eval(result))\n",
    "    elif choice == \"6\":\n",
    "        print(\"\\nPerforms any type of operations on a list of numbers\")\n",
    "        long_arith = input(\"Type here: \").split()\n",
    "        result = f\"{long_arith[0]}\".join (i for i in long_arith[1:])\n",
    "        print(eval(result))\n",
    "    elif choice == \"7\":\n",
    "      print(\"\\nGood bye\")\n",
    "      break\n",
    "    else:\n",
    "      continue"
   ]
  },
  {
   "cell_type": "code",
   "execution_count": null,
   "metadata": {},
   "outputs": [],
   "source": []
  }
 ],
 "metadata": {
  "kernelspec": {
   "name": "python3",
   "display_name": "Python 3.9.2 64-bit"
  },
  "language_info": {
   "codemirror_mode": {
    "name": "ipython",
    "version": 3
   },
   "file_extension": ".py",
   "mimetype": "text/x-python",
   "name": "python",
   "nbconvert_exporter": "python",
   "pygments_lexer": "ipython3",
   "version": "3.9.2"
  },
  "interpreter": {
   "hash": "c569cd2e17f62341e0f08a54f9a867c3c0d3a6f67454072d7de41a8b5dff8343"
  }
 },
 "nbformat": 4,
 "nbformat_minor": 4
}